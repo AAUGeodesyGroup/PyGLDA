{
 "cells": [
  {
   "cell_type": "markdown",
   "id": "582137f7-99f1-476b-8f7d-c11c8ddfb3df",
   "metadata": {
    "editable": true,
    "slideshow": {
     "slide_type": ""
    },
    "tags": []
   },
   "source": [
    "# Practial exercises with PyGLDA toolbox\n",
    "---\n",
    "Edited by Fan Yang (fany@plan.aau.dk) and all other members from AAU geodesy group. This document is dedicated to the summer school held by Geodesy Group, Aalborg University, Denmark. This can be used as a quick start of the PyGLDA toolbox.\n",
    "\n",
    "**Notice**: please makre sure that this notebook is opened under the environment of **pyglda**, following these steps: navigate to the '../PyGLDA/demo/..', open a terminal and type\n",
    "> conda activate pyglda\n",
    "> \n",
    "> pip install jupyterlab\n",
    "> \n",
    "> jupiter lab\n",
    "---\n",
    "\n",
    "# Exercise-3\n",
    "The task is to test the impact of choosing a different ensemble size\n",
    "\n",
    "---"
   ]
  },
  {
   "cell_type": "markdown",
   "id": "7bac2765-a127-4f93-b83e-b839cec16a2c",
   "metadata": {},
   "source": [
    "\n",
    "## 1. Load the default settings"
   ]
  },
  {
   "cell_type": "code",
   "execution_count": 1,
   "id": "797c93af-0638-4464-97ca-d60c6d421374",
   "metadata": {},
   "outputs": [
    {
     "name": "stdout",
     "output_type": "stream",
     "text": [
      "The ensemble size is currtenly set as: 10\n"
     ]
    }
   ],
   "source": [
    "from demo_summer_school import RDA, load_main_configuration_parameters,save_main_configuration_parameters\n",
    "\n",
    "config= load_main_configuration_parameters()\n",
    "print('The ensemble size is currtenly set as: %s'%config['ens'])"
   ]
  },
  {
   "cell_type": "markdown",
   "id": "d6ea2ac2-ed0d-432a-b74b-f9746c88ffcc",
   "metadata": {},
   "source": [
    "## 2. Modify the ensemble size"
   ]
  },
  {
   "cell_type": "code",
   "execution_count": 2,
   "id": "7551a42b-7858-404d-a6a3-69e586502ec9",
   "metadata": {},
   "outputs": [
    {
     "name": "stdout",
     "output_type": "stream",
     "text": [
      "The ensemble size is currtenly set as: 5\n"
     ]
    }
   ],
   "source": [
    "### start a new case study to avoid confusion ###\n",
    "RDA.case= 'Exercise_3'\n",
    "RDA.setting_dir = '../settings/SummerSchool/Exercise_3'\n",
    "RDA.config_external_data() # link the setting file to the 'external data path'\n",
    "\n",
    "RDA.ens = 5\n",
    "# RDA.ens = 10\n",
    "\n",
    "config = save_main_configuration_parameters()\n",
    "print('The ensemble size is currtenly set as: %s'%config['ens'])\n"
   ]
  },
  {
   "cell_type": "markdown",
   "id": "50f6ebc1-b046-49cd-bae1-840ded558287",
   "metadata": {},
   "source": [
    "## 3. Perform the pertubation and open loop"
   ]
  },
  {
   "cell_type": "code",
   "execution_count": 3,
   "id": "1b0d2d71-a74f-437d-8a71-1bf4850416a5",
   "metadata": {},
   "outputs": [
    {
     "name": "stdout",
     "output_type": "stream",
     "text": [
      "\n",
      "Configuring W3v2 run\n",
      "Spatial resolution: 0.1\n",
      "Area: lat- [31.2, 21.8], lon- [87.8, 97.7]\n",
      "Forcing field: ERA5\n",
      "\n",
      "Initializing model states: cold\n",
      "Guess cold states.\n",
      "Spin up run for 2004-10-01 to 2004-12-31 (92 days)\n",
      "\n",
      "===== RUN from 2004-10-01 to 2004-12-31 =====\n",
      "\n",
      "Doing year/month 200410\n",
      "...............................\n",
      "Doing year/month 200411\n",
      "..............................\n",
      "Doing year/month 200412\n",
      "...............................\n",
      "Finished\n",
      "\n",
      "Configuring W3v2 run\n",
      "Spatial resolution: 0.1\n",
      "Area: lat- [31.2, 21.8], lon- [87.8, 97.7]\n",
      "Forcing field: ERA5\n",
      "\n",
      "Start to generate ensembles with given perturbation...\n",
      "2005-01\n",
      "2005-02\n",
      "2005-03\n",
      "2005-04\n",
      "2005-05\n",
      "2005-06\n",
      "2005-07\n",
      "2005-08\n",
      "2005-09\n",
      "2005-10\n",
      "2005-11\n",
      "2005-12\n",
      "Finished: 2025-08-19 15:12:40\n",
      "\n",
      "Configuring W3v2 run\n",
      "Spatial resolution: 0.1\n",
      "Area: lat- [31.2, 21.8], lon- [87.8, 97.7]\n",
      "Forcing field: ERA5\n",
      "\n",
      "Initializing model states: warm\n",
      "\n",
      "===== RUN from 2005-01-01 to 2005-12-31 =====\n",
      "\n",
      "Doing year/month 200501\n",
      "...............................\n",
      "Doing year/month 200502\n",
      "............................\n",
      "Doing year/month 200503\n",
      "...............................\n",
      "Doing year/month 200504\n",
      "..............................\n",
      "Doing year/month 200505\n",
      "...............................\n",
      "Doing year/month 200506\n",
      "..............................\n",
      "Doing year/month 200507\n",
      "...............................\n",
      "Doing year/month 200508\n",
      "...............................\n",
      "Doing year/month 200509\n",
      "..............................\n",
      "Doing year/month 200510\n",
      "...............................\n",
      "Doing year/month 200511\n",
      "..............................\n",
      "Doing year/month 200512\n",
      "...............................\n",
      "Finished: 2025-08-19 15:12:44\n",
      "Postprocessing and gathering open loop results ......\n",
      "\n",
      "Start to perturb GRACE to obtain appropriate observations...\n",
      "Finished: 2025-08-19 15:12:47\n",
      "\n",
      "Preparing OBS design matrix: 2025-08-19 15:12:47\n",
      "Successfully generate and save the design matrix...\n",
      "\n",
      "Configure DA experiments: 2025-08-19 15:12:48\n",
      "\n",
      "Configuring W3v2 run\n",
      "Spatial resolution: 0.1\n",
      "Area: lat- [31.2, 21.8], lon- [87.8, 97.7]\n",
      "Forcing field: ERA5\n",
      "\n",
      "Initializing model states: resume\n",
      "Configure shapefile: 2025-08-19 15:12:48\n",
      "Configure OBS and its design matrix: 2025-08-19 15:12:49\n",
      "User case: Exercise_3\n",
      "\n",
      "=====================Data assimilation=========================\n",
      "\n",
      "Doing year/month: 2005/02\n",
      "............................|\n",
      "Doing year/month: 2005/03\n",
      "...............................|\n",
      "Doing year/month: 2005/04\n",
      "..............................|\n",
      "Doing year/month: 2005/05\n",
      "...............................|\n",
      "Doing year/month: 2005/06\n",
      "..............................|\n",
      "Doing year/month: 2005/07\n",
      "...............................|\n",
      "Doing year/month: 2005/08\n",
      "...............................|\n",
      "Doing year/month: 2005/09\n",
      "..............................|\n",
      "Doing year/month: 2005/10\n",
      "...............................|\n",
      "Doing year/month: 2005/11\n",
      "..............................|\n",
      "Doing year/month: 2005/12\n",
      "...............................|\n",
      "Postprocessing and gathering data assimilation results ......\n",
      "\n",
      "job finished: Exercise_3, 2025-08-19 15:12:56\n"
     ]
    }
   ],
   "source": [
    "RDA.single_run()\n",
    "!mpiexec -n 6 python -u demo_summer_school.py OL\n",
    "!mpiexec -n 6 python -u demo_summer_school.py DA\n",
    "\n",
    "# !mpiexec -n 11 python -u demo_summer_school.py OL\n",
    "# !mpiexec -n 11 python -u demo_summer_school.py DA"
   ]
  },
  {
   "cell_type": "markdown",
   "id": "824037c9-67d4-45ff-b0a0-9df8584adfa5",
   "metadata": {},
   "source": [
    "---\n",
    "### 4. Please go to another notebook for the visualization ==> **Visualization.ipynb**"
   ]
  },
  {
   "cell_type": "code",
   "execution_count": null,
   "id": "b5e1448c-23f8-4eff-bdf4-c394645a1abb",
   "metadata": {},
   "outputs": [],
   "source": []
  }
 ],
 "metadata": {
  "kernelspec": {
   "display_name": "Python 3 (ipykernel)",
   "language": "python",
   "name": "python3"
  },
  "language_info": {
   "codemirror_mode": {
    "name": "ipython",
    "version": 3
   },
   "file_extension": ".py",
   "mimetype": "text/x-python",
   "name": "python",
   "nbconvert_exporter": "python",
   "pygments_lexer": "ipython3",
   "version": "3.10.12"
  }
 },
 "nbformat": 4,
 "nbformat_minor": 5
}
