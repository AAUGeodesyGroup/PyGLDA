{
 "cells": [
  {
   "cell_type": "markdown",
   "id": "582137f7-99f1-476b-8f7d-c11c8ddfb3df",
   "metadata": {
    "editable": true,
    "slideshow": {
     "slide_type": ""
    },
    "tags": []
   },
   "source": [
    "# Practial exercises with PyGLDA toolbox\n",
    "---\n",
    "Edited by Fan Yang (fany@plan.aau.dk) and all other members from AAU geodesy group. This document is dedicated to the summer school held by Geodesy Group, Aalborg University, Denmark. This can be used as a quick start of the PyGLDA toolbox.\n",
    "\n",
    "**Notice**: please makre sure that this notebook is opened under the environment of **pyglda**, following these steps: navigate to the '../PyGLDA/demo/..', open a terminal and type\n",
    "> conda activate pyglda\n",
    "> \n",
    "> pip install jupyterlab\n",
    "> \n",
    "> jupiter lab\n",
    "---\n",
    "\n",
    "# Exercise-2\n",
    "The task is to test the impact of choosing differeng GRACE solutions: the options are GRACE-SH and GRACE-Mascon solution.\n",
    "\n",
    "---"
   ]
  },
  {
   "cell_type": "markdown",
   "id": "7bac2765-a127-4f93-b83e-b839cec16a2c",
   "metadata": {},
   "source": [
    "\n",
    "## 1. Load the default settings"
   ]
  },
  {
   "cell_type": "code",
   "execution_count": 1,
   "id": "797c93af-0638-4464-97ca-d60c6d421374",
   "metadata": {},
   "outputs": [
    {
     "data": {
      "text/plain": [
       "{'basin': 'Brahmaputra3subbasins',\n",
       " 'shp_path': '../data/basin/shp/Brahmaputra/Brahmaputra3subbasins_subbasins.shp',\n",
       " 'case': 'Exercise_2',\n",
       " 'setting_dir': '../settings/SummerSchool/Exercise_2',\n",
       " 'ens': 10,\n",
       " 'cold_begin_time': '2004-10-01',\n",
       " 'cold_end_time': '2004-12-31',\n",
       " 'warm_begin_time': '2005-01-01',\n",
       " 'warm_end_time': '2005-12-31',\n",
       " 'resume_begin_time': '2005-02-01',\n",
       " 'resume_end_time': '2005-12-31',\n",
       " 'external_data_path': '/media/user/My Book/Fan/SummerSchool/External Data',\n",
       " 'res_output': '/media/user/My Book/Fan/SummerSchool/External Data/w3ra/res',\n",
       " 'figure_output': '/media/user/My Book/Fan/SummerSchool/External Data/w3ra/figure'}"
      ]
     },
     "execution_count": 1,
     "metadata": {},
     "output_type": "execute_result"
    }
   ],
   "source": [
    "from demo_summer_school import RDA, load_main_configuration_parameters,save_main_configuration_parameters\n",
    "load_main_configuration_parameters()"
   ]
  },
  {
   "cell_type": "markdown",
   "id": "d6ea2ac2-ed0d-432a-b74b-f9746c88ffcc",
   "metadata": {},
   "source": [
    "## 2. Preview of the setting file that controls the observation "
   ]
  },
  {
   "cell_type": "code",
   "execution_count": 2,
   "id": "7551a42b-7858-404d-a6a3-69e586502ec9",
   "metadata": {},
   "outputs": [
    {
     "data": {
      "text/plain": [
       "{'EWH_grid_dir': '/media/user/My Book/Fan/SummerSchool/External Data/GRACE/SaGEA/signal_Mascon',\n",
       " 'cov_dir': '/media/user/My Book/Fan/SummerSchool/External Data/GRACE/SaGEA/sample_DDK3',\n",
       " 'preprocess_res': '/media/user/My Book/Fan/SummerSchool/External Data/GRACE/output/',\n",
       " 'OL_mean': '/media/user/My Book/Fan/SummerSchool/External Data/GRACE/OLmean',\n",
       " 'aux_for_time_epochs': '/media/user/My Book/Fan/SummerSchool/External Data/GRACE/SaGEA/signal_Mascon',\n",
       " 'kind': 'Mascon_monthly'}"
      ]
     },
     "execution_count": 2,
     "metadata": {},
     "output_type": "execute_result"
    }
   ],
   "source": [
    "RDA.setting_dir = '../settings/SummerSchool/Exercise_2'\n",
    "import json\n",
    "from pathlib import Path\n",
    "\n",
    "## GRACE-MASCON\n",
    "config_mascon= json.load(open(Path(RDA.setting_dir)/'DA_setting_Mascon.json', 'r'))\n",
    "config_mascon['obs']['GRACE']"
   ]
  },
  {
   "cell_type": "code",
   "execution_count": 3,
   "id": "d897b8f7-37a9-4348-834a-350f5bacad32",
   "metadata": {},
   "outputs": [
    {
     "data": {
      "text/plain": [
       "{'EWH_grid_dir': '/media/user/My Book/Fan/SummerSchool/External Data/GRACE/SaGEA/signal_DDK3',\n",
       " 'cov_dir': '/media/user/My Book/Fan/SummerSchool/External Data/GRACE/SaGEA/sample_DDK3',\n",
       " 'preprocess_res': '/media/user/My Book/Fan/SummerSchool/External Data/GRACE/output/',\n",
       " 'OL_mean': '/media/user/My Book/Fan/SummerSchool/External Data/GRACE/OLmean',\n",
       " 'aux_for_time_epochs': '/media/user/My Book/Fan/SummerSchool/External Data/GRACE/SaGEA/signal_DDK3',\n",
       " 'kind': 'SH_monthly'}"
      ]
     },
     "execution_count": 3,
     "metadata": {},
     "output_type": "execute_result"
    }
   ],
   "source": [
    "## GRACE-SH\n",
    "config_SH= json.load(open(Path(RDA.setting_dir)/'DA_setting_SH.json', 'r'))\n",
    "config_SH['obs']['GRACE']"
   ]
  },
  {
   "cell_type": "markdown",
   "id": "e9a30534-6f34-41b8-8787-d51088c60300",
   "metadata": {},
   "source": [
    "## 3. Make your choice of GRACE solution"
   ]
  },
  {
   "cell_type": "code",
   "execution_count": 4,
   "id": "126bc976-6970-49bf-8e99-84d9f432a7d8",
   "metadata": {},
   "outputs": [
    {
     "data": {
      "text/plain": [
       "{'basin': 'Brahmaputra3subbasins',\n",
       " 'shp_path': '../data/basin/shp/Brahmaputra/Brahmaputra3subbasins_subbasins.shp',\n",
       " 'case': 'Exercise_2',\n",
       " 'setting_dir': '../settings/SummerSchool/Exercise_2',\n",
       " 'ens': 10,\n",
       " 'cold_begin_time': '2004-10-01',\n",
       " 'cold_end_time': '2004-12-31',\n",
       " 'warm_begin_time': '2005-01-01',\n",
       " 'warm_end_time': '2005-12-31',\n",
       " 'resume_begin_time': '2005-02-01',\n",
       " 'resume_end_time': '2005-12-31',\n",
       " 'external_data_path': '/media/user/My Book/Fan/SummerSchool/External Data',\n",
       " 'res_output': '/media/user/My Book/Fan/SummerSchool/External Data/w3ra/res',\n",
       " 'figure_output': '/media/user/My Book/Fan/SummerSchool/External Data/w3ra/figure'}"
      ]
     },
     "execution_count": 4,
     "metadata": {},
     "output_type": "execute_result"
    }
   ],
   "source": [
    "### modify the settings and save to the json###\n",
    "config = config_mascon\n",
    "# config = config_SH\n",
    "with open(Path(RDA.setting_dir)/'DA_setting.json', 'w') as f:\n",
    "    json.dump(config, f, indent=4)\n",
    "\n",
    "### start a new case study to avoid confusion ###\n",
    "RDA.case= 'Exercise_2'\n",
    "save_main_configuration_parameters()"
   ]
  },
  {
   "cell_type": "markdown",
   "id": "be9586ef-8afd-4acc-814f-b90302601edd",
   "metadata": {},
   "source": [
    "## 4. Re-generate GRACE data"
   ]
  },
  {
   "cell_type": "code",
   "execution_count": 5,
   "id": "af9640ba-62ec-4a8a-bd41-a5135c8145dd",
   "metadata": {},
   "outputs": [
    {
     "name": "stdout",
     "output_type": "stream",
     "text": [
      "Start to pre-process GRACE to obtain basin-wise TWS over places of interest...\n",
      "2005-01\n",
      "2005-02\n",
      "2005-03\n",
      "2005-04\n",
      "2005-05\n",
      "2005-06\n",
      "2005-07\n",
      "2005-08\n",
      "2005-09\n",
      "2005-10\n",
      "2005-11\n",
      "2005-12\n",
      "Finished: 2025-08-18 15:31:33\n",
      "Start to pre-process GRACE to obtain grid-wise TWS over places of interest...\n",
      "2005-01\n",
      "2005-02\n",
      "2005-03\n",
      "2005-04\n",
      "2005-05\n",
      "2005-06\n",
      "2005-07\n",
      "2005-08\n",
      "2005-09\n",
      "2005-10\n",
      "2005-11\n",
      "2005-12\n",
      "Finished: 2025-08-18 15:31:34\n",
      "\n",
      "Start to pre-process GRACE to obtain COV over places of interest...\n",
      "2005-01_0.npy\n",
      "2005-02_0.npy\n",
      "2005-03_0.npy\n",
      "2005-04_0.npy\n",
      "2005-05_0.npy\n",
      "2005-06_0.npy\n",
      "2005-07_0.npy\n",
      "2005-08_0.npy\n",
      "2005-09_0.npy\n",
      "2005-10_0.npy\n",
      "2005-11_0.npy\n",
      "2005-12_0.npy\n",
      "Finished: 2025-08-18 15:31:46\n"
     ]
    }
   ],
   "source": [
    "from demo_summer_school import demo_prepare_GRACE_Mascon, demo_prepare_GRACE\n",
    "if config['obs']['GRACE']['kind'] == 'Mascon_monthly':\n",
    "    demo_prepare_GRACE_Mascon(isDiagonal=False)\n",
    "elif config['obs']['GRACE']['kind'] == 'SH_monthly':\n",
    "    demo_prepare_GRACE(isDiagonal=False)"
   ]
  },
  {
   "cell_type": "markdown",
   "id": "50f6ebc1-b046-49cd-bae1-840ded558287",
   "metadata": {},
   "source": [
    "## 4. Perform the open loop and data assimilation"
   ]
  },
  {
   "cell_type": "code",
   "execution_count": 6,
   "id": "1b0d2d71-a74f-437d-8a71-1bf4850416a5",
   "metadata": {},
   "outputs": [
    {
     "name": "stdout",
     "output_type": "stream",
     "text": [
      "\n",
      "Configuring W3v2 run\n",
      "Spatial resolution: 0.1\n",
      "Area: lat- [31.2, 21.8], lon- [87.8, 97.7]\n",
      "Forcing field: ERA5\n",
      "\n",
      "Initializing model states: cold\n",
      "Guess cold states.\n",
      "Spin up run for 2004-10-01 to 2004-12-31 (92 days)\n",
      "\n",
      "===== RUN from 2004-10-01 to 2004-12-31 =====\n",
      "\n",
      "Doing year/month 200410\n",
      "...............................\n",
      "Doing year/month 200411\n",
      "..............................\n",
      "Doing year/month 200412\n",
      "...............................\n",
      "Finished\n",
      "\n",
      "Configuring W3v2 run\n",
      "Spatial resolution: 0.1\n",
      "Area: lat- [31.2, 21.8], lon- [87.8, 97.7]\n",
      "Forcing field: ERA5\n",
      "/bin/bash: line 1: mpiexec: command not found\n",
      "/bin/bash: line 1: mpiexec: command not found\n"
     ]
    }
   ],
   "source": [
    "RDA.single_run()\n",
    "!mpiexec -n 11 python -u demo_summer_school.py OL\n",
    "!mpiexec -n 11 python -u demo_summer_school.py DA"
   ]
  },
  {
   "cell_type": "markdown",
   "id": "824037c9-67d4-45ff-b0a0-9df8584adfa5",
   "metadata": {},
   "source": [
    "---\n",
    "### 5. Please go to another notebook for the visualization ==> **Visualization.ipynb**"
   ]
  },
  {
   "cell_type": "code",
   "execution_count": null,
   "id": "776a052d-be0e-487d-b2d5-e0f83cbc4c3b",
   "metadata": {},
   "outputs": [],
   "source": []
  }
 ],
 "metadata": {
  "kernelspec": {
   "display_name": "Python 3 (ipykernel)",
   "language": "python",
   "name": "python3"
  },
  "language_info": {
   "codemirror_mode": {
    "name": "ipython",
    "version": 3
   },
   "file_extension": ".py",
   "mimetype": "text/x-python",
   "name": "python",
   "nbconvert_exporter": "python",
   "pygments_lexer": "ipython3",
   "version": "3.10.12"
  }
 },
 "nbformat": 4,
 "nbformat_minor": 5
}
