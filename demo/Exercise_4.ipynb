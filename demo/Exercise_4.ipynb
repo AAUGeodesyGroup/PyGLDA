{
 "cells": [
  {
   "cell_type": "markdown",
   "id": "582137f7-99f1-476b-8f7d-c11c8ddfb3df",
   "metadata": {
    "editable": true,
    "slideshow": {
     "slide_type": ""
    },
    "tags": []
   },
   "source": [
    "# Practial exercises with PyGLDA toolbox\n",
    "---\n",
    "Edited by Fan Yang (fany@plan.aau.dk) and all other members from AAU geodesy group. This document is dedicated to the summer school held by Geodesy Group, Aalborg University, Denmark. This can be used as a quick start of the PyGLDA toolbox.\n",
    "\n",
    "**Notice**: please makre sure that this notebook is opened under the environment of **pyglda**, following these steps: navigate to the '../PyGLDA/demo/..', open a terminal and type\n",
    "> conda activate pyglda\n",
    "> \n",
    "> pip install jupyterlab\n",
    "> \n",
    "> python -m jupyter lab\n",
    "---\n",
    "\n",
    "# Exercise-4\n",
    "The task is to implement DA at a desired region: Rhine river basin\n",
    "\n",
    "---"
   ]
  },
  {
   "cell_type": "markdown",
   "id": "7bac2765-a127-4f93-b83e-b839cec16a2c",
   "metadata": {},
   "source": [
    "\n",
    "## 1. Load the default settings"
   ]
  },
  {
   "cell_type": "code",
   "execution_count": 1,
   "id": "797c93af-0638-4464-97ca-d60c6d421374",
   "metadata": {},
   "outputs": [
    {
     "data": {
      "text/plain": [
       "{'basin': 'Brahmaputra3subbasins',\n",
       " 'shp_path': '../data/basin/shp/Brahmaputra/Brahmaputra3subbasins_subbasins.shp',\n",
       " 'case': 'Exercise_3',\n",
       " 'setting_dir': '../settings/SummerSchool/Exercise_3',\n",
       " 'ens': 5,\n",
       " 'cold_begin_time': '2004-10-01',\n",
       " 'cold_end_time': '2004-12-31',\n",
       " 'warm_begin_time': '2005-01-01',\n",
       " 'warm_end_time': '2005-12-31',\n",
       " 'resume_begin_time': '2005-02-01',\n",
       " 'resume_end_time': '2005-12-31',\n",
       " 'external_data_path': '/media/user/My Book/Fan/SummerSchool/External Data',\n",
       " 'res_output': '/media/user/My Book/Fan/SummerSchool/External Data/w3ra/res',\n",
       " 'figure_output': '/media/user/My Book/Fan/SummerSchool/External Data/w3ra/figure'}"
      ]
     },
     "execution_count": 1,
     "metadata": {},
     "output_type": "execute_result"
    }
   ],
   "source": [
    "from demo_summer_school import RDA, load_main_configuration_parameters,save_main_configuration_parameters\n",
    "\n",
    "load_main_configuration_parameters()"
   ]
  },
  {
   "cell_type": "markdown",
   "id": "d6ea2ac2-ed0d-432a-b74b-f9746c88ffcc",
   "metadata": {},
   "source": [
    "## 2. Modify the configuration"
   ]
  },
  {
   "cell_type": "code",
   "execution_count": 2,
   "id": "7551a42b-7858-404d-a6a3-69e586502ec9",
   "metadata": {},
   "outputs": [
    {
     "data": {
      "text/plain": [
       "{'basin': 'Rhine-Meuse',\n",
       " 'shp_path': '../data/basin/shp/Rhine-Meuse/Rhine-Meuse_subbasins.shp',\n",
       " 'case': 'Exercise_4',\n",
       " 'setting_dir': '../settings/SummerSchool/Exercise_4',\n",
       " 'ens': 10,\n",
       " 'cold_begin_time': '2004-10-01',\n",
       " 'cold_end_time': '2004-12-31',\n",
       " 'warm_begin_time': '2005-01-01',\n",
       " 'warm_end_time': '2005-12-31',\n",
       " 'resume_begin_time': '2005-02-01',\n",
       " 'resume_end_time': '2005-12-31',\n",
       " 'external_data_path': '/media/user/My Book/Fan/SummerSchool/External Data',\n",
       " 'res_output': '/media/user/My Book/Fan/SummerSchool/External Data/w3ra/res',\n",
       " 'figure_output': '/media/user/My Book/Fan/SummerSchool/External Data/w3ra/figure'}"
      ]
     },
     "execution_count": 2,
     "metadata": {},
     "output_type": "execute_result"
    }
   ],
   "source": [
    "### start a new case study to avoid confusion ###\n",
    "RDA.case= 'Exercise_4'\n",
    "RDA.setting_dir = '../settings/SummerSchool/Exercise_4'\n",
    "RDA.config_external_data() # link the setting file to the 'external data path'\n",
    "RDA.ens = 10\n",
    "\n",
    "# RDA.basin = 'MDB'\n",
    "# RDA.shp_path = '../data/basin/shp/MDB_4_shapefiles/MDB_4_subbasins.shp'\n",
    "\n",
    "RDA.basin = 'Rhine-Meuse'\n",
    "RDA.shp_path = '../data/basin/shp/Rhine-Meuse/Rhine-Meuse_subbasins.shp'\n",
    "\n",
    "save_main_configuration_parameters()\n"
   ]
  },
  {
   "cell_type": "markdown",
   "id": "50f6ebc1-b046-49cd-bae1-840ded558287",
   "metadata": {},
   "source": [
    "## 3. Visualize the shapefile"
   ]
  },
  {
   "cell_type": "code",
   "execution_count": 3,
   "id": "d8de593a-28ca-4c82-a0b5-2b6416dbc625",
   "metadata": {},
   "outputs": [
    {
     "data": {
      "image/png": "[encoded data removed]",
      "text/plain": [
       "<Figure size 400x400 with 1 Axes>"
      ]
     },
     "metadata": {},
     "output_type": "display_data"
    }
   ],
   "source": [
    "import geopandas as gpd\n",
    "import matplotlib.pyplot as plt\n",
    "basin_map = gpd.read_file(RDA.shp_path)\n",
    "fig, ax = plt.subplots(figsize = (4,4))\n",
    "basin_map.plot(ax=ax,column=\"ID\")\n",
    "ax.set_axis_off()\n",
    "ax.set_title('Rhine: six main subbasins');"
   ]
  },
  {
   "cell_type": "markdown",
   "id": "f37fb283-2caa-4c51-910f-62df5f998fc8",
   "metadata": {},
   "source": [
    "## 4. Data preparation"
   ]
  },
  {
   "cell_type": "code",
   "execution_count": 4,
   "id": "104fd552-7904-4d8d-8ece-6d39ec7a599c",
   "metadata": {},
   "outputs": [
    {
     "name": "stdout",
     "output_type": "stream",
     "text": [
      "Start to pre-process GRACE to obtain basin-wise TWS over places of interest...\n",
      "2005-01\n",
      "2005-02\n",
      "2005-03\n",
      "2005-04\n",
      "2005-05\n",
      "2005-06\n",
      "2005-07\n",
      "2005-08\n",
      "2005-09\n",
      "2005-10\n",
      "2005-11\n",
      "2005-12\n",
      "Finished: 2025-08-19 15:13:55\n",
      "Start to pre-process GRACE to obtain grid-wise TWS over places of interest...\n",
      "2005-01\n",
      "2005-02\n",
      "2005-03\n",
      "2005-04\n",
      "2005-05\n",
      "2005-06\n",
      "2005-07\n",
      "2005-08\n",
      "2005-09\n",
      "2005-10\n",
      "2005-11\n",
      "2005-12\n",
      "Finished: 2025-08-19 15:13:56\n",
      "\n",
      "Start to pre-process GRACE to obtain COV over places of interest...\n",
      "2005-01_0.npy\n",
      "2005-02_0.npy\n",
      "2005-03_0.npy\n",
      "2005-04_0.npy\n",
      "2005-05_0.npy\n",
      "2005-06_0.npy\n",
      "2005-07_0.npy\n",
      "2005-08_0.npy\n",
      "2005-09_0.npy\n",
      "2005-10_0.npy\n",
      "2005-11_0.npy\n",
      "2005-12_0.npy\n",
      "Finished: 2025-08-19 15:14:51\n"
     ]
    }
   ],
   "source": [
    "from demo_summer_school import demo_prepare_GRACE_Mascon\n",
    "demo_prepare_GRACE_Mascon(isDiagonal=True)"
   ]
  },
  {
   "cell_type": "code",
   "execution_count": 5,
   "id": "a05c2cde-7b8b-4c73-a52c-4477e4204c22",
   "metadata": {},
   "outputs": [
    {
     "name": "stdout",
     "output_type": "stream",
     "text": [
      "\n",
      "Data preparation...\n",
      "2004-10\n",
      "2004-11\n",
      "2004-12\n",
      "2005-01\n",
      "2005-02\n",
      "2005-03\n",
      "2005-04\n",
      "2005-05\n",
      "2005-06\n",
      "2005-07\n",
      "2005-08\n",
      "2005-09\n",
      "2005-10\n",
      "2005-11\n",
      "2005-12\n",
      "Finished: 2025-08-18 21:25:48\n"
     ]
    }
   ],
   "source": [
    "RDA.prepare_Forcing() # this does not work on Windows system. But we have pre-saved data so that windows user can skip this step"
   ]
  },
  {
   "cell_type": "markdown",
   "id": "28e25ec7-2a01-4ccf-88ba-5b3fe656898e",
   "metadata": {},
   "source": [
    "## 5. Data assimilation"
   ]
  },
  {
   "cell_type": "code",
   "execution_count": 5,
   "id": "a63e13ca-4fa6-4c58-a20a-f6ebeeab7149",
   "metadata": {},
   "outputs": [
    {
     "name": "stdout",
     "output_type": "stream",
     "text": [
      "\n",
      "Configuring W3v2 run\n",
      "Spatial resolution: 0.1\n",
      "Area: lat- [53.2, 46.3], lon- [3.8, 12.2]\n",
      "Forcing field: ERA5\n",
      "\n",
      "Initializing model states: cold\n",
      "Guess cold states.\n",
      "Spin up run for 2004-10-01 to 2004-12-31 (92 days)\n",
      "\n",
      "===== RUN from 2004-10-01 to 2004-12-31 =====\n",
      "\n",
      "Doing year/month 200410\n",
      "...............................\n",
      "Doing year/month 200411\n",
      "..............................\n",
      "Doing year/month 200412\n",
      "...............................\n",
      "Finished\n",
      "\n",
      "Configuring W3v2 run\n",
      "Spatial resolution: 0.1\n",
      "Area: lat- [53.2, 46.3], lon- [3.8, 12.2]\n",
      "Forcing field: ERA5\n",
      "\n",
      "Start to generate ensembles with given perturbation...\n",
      "2005-01\n",
      "2005-02\n",
      "2005-03\n",
      "2005-04\n",
      "2005-05\n",
      "2005-06\n",
      "2005-07\n",
      "2005-08\n",
      "2005-09\n",
      "2005-10\n",
      "2005-11\n",
      "2005-12\n",
      "Finished: 2025-08-19 15:15:23\n",
      "\n",
      "Configuring W3v2 run\n",
      "Spatial resolution: 0.1\n",
      "Area: lat- [53.2, 46.3], lon- [3.8, 12.2]\n",
      "Forcing field: ERA5\n",
      "\n",
      "Initializing model states: warm\n",
      "\n",
      "===== RUN from 2005-01-01 to 2005-12-31 =====\n",
      "\n",
      "Doing year/month 200501\n",
      "...............................\n",
      "Doing year/month 200502\n",
      "............................\n",
      "Doing year/month 200503\n",
      "...............................\n",
      "Doing year/month 200504\n",
      "..............................\n",
      "Doing year/month 200505\n",
      "...............................\n",
      "Doing year/month 200506\n",
      "..............................\n",
      "Doing year/month 200507\n",
      "...............................\n",
      "Doing year/month 200508\n",
      "...............................\n",
      "Doing year/month 200509\n",
      "..............................\n",
      "Doing year/month 200510\n",
      "...............................\n",
      "Doing year/month 200511\n",
      "..............................\n",
      "Doing year/month 200512\n",
      "...............................\n",
      "Finished: 2025-08-19 15:15:26\n",
      "Postprocessing and gathering open loop results ......\n",
      "\n",
      "Start to perturb GRACE to obtain appropriate observations...\n",
      "Finished: 2025-08-19 15:15:32\n",
      "\n",
      "Preparing OBS design matrix: 2025-08-19 15:15:34\n",
      "Successfully generate and save the design matrix...\n",
      "\n",
      "Configure DA experiments: 2025-08-19 15:15:34\n",
      "\n",
      "Configuring W3v2 run\n",
      "Spatial resolution: 0.1\n",
      "Area: lat- [53.2, 46.3], lon- [3.8, 12.2]\n",
      "Forcing field: ERA5\n",
      "\n",
      "Initializing model states: resume\n",
      "Configure shapefile: 2025-08-19 15:15:34\n",
      "Configure OBS and its design matrix: 2025-08-19 15:15:36\n",
      "User case: Exercise_4\n",
      "\n",
      "=====================Data assimilation=========================\n",
      "\n",
      "Doing year/month: 2005/02\n",
      "............................|\n",
      "Doing year/month: 2005/03\n",
      "...............................|\n",
      "Doing year/month: 2005/04\n",
      "..............................|\n",
      "Doing year/month: 2005/05\n",
      "...............................|\n",
      "Doing year/month: 2005/06\n",
      "..............................|\n",
      "Doing year/month: 2005/07\n",
      "...............................|\n",
      "Doing year/month: 2005/08\n",
      "...............................|\n",
      "Doing year/month: 2005/09\n",
      "..............................|\n",
      "Doing year/month: 2005/10\n",
      "...............................|\n",
      "Doing year/month: 2005/11\n",
      "..............................|\n",
      "Doing year/month: 2005/12\n",
      "...............................|\n",
      "Postprocessing and gathering data assimilation results ......\n",
      "\n",
      "job finished: Exercise_4, 2025-08-19 15:15:49\n"
     ]
    }
   ],
   "source": [
    "RDA.single_run()\n",
    "!mpiexec -n 11 python -u demo_summer_school.py OL\n",
    "!mpiexec -n 11 python -u demo_summer_school.py DA"
   ]
  },
  {
   "cell_type": "markdown",
   "id": "824037c9-67d4-45ff-b0a0-9df8584adfa5",
   "metadata": {},
   "source": [
    "---\n",
    "## 6. Please go to another notebook for the visualization ==> **Visualization.ipynb**"
   ]
  }
 ],
 "metadata": {
  "kernelspec": {
   "display_name": "Python 3 (ipykernel)",
   "language": "python",
   "name": "python3"
  },
  "language_info": {
   "codemirror_mode": {
    "name": "ipython",
    "version": 3
   },
   "file_extension": ".py",
   "mimetype": "text/x-python",
   "name": "python",
   "nbconvert_exporter": "python",
   "pygments_lexer": "ipython3",
   "version": "3.10.12"
  }
 },
 "nbformat": 4,
 "nbformat_minor": 5
}
