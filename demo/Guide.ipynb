{
 "cells": [
  {
   "cell_type": "markdown",
   "id": "ca421af7-cef3-44dc-954b-1a63f1984352",
   "metadata": {
    "editable": true,
    "slideshow": {
     "slide_type": ""
    },
    "tags": []
   },
   "source": [
    "# A step-by-step guide to perform hydorlogical data assimilation with PyGLDA toolbox\n",
    "---\n",
    "Edited by Fan Yang (fany@plan.aau.dk) and all other members from AAU geodesy group. This document is dedicated to the summer school held by Geodesy Group, Aalborg University, Denmark. This can be used as a quick start of the PyGLDA toolbox.\n",
    "\n",
    "**Notice**: please makre sure that this notebook is opened under the environment of **pyglda**, following these steps: navigate to the '../PyGLDA/demo/..', open a terminal and type\n",
    "> conda activate pyglda\n",
    "> \n",
    "> pip install jupyterlab\n",
    "> \n",
    "> jupiter lab\n",
    "\n",
    "---"
   ]
  },
  {
   "cell_type": "markdown",
   "id": "0c93cf94-e7f0-4866-8090-eb0eaa39162c",
   "metadata": {},
   "source": [
    "## 1. Test of installation\n",
    "First of all, run this initial test to ensure that PyGLDA has been correctly configured and installed on your platform (windows and linux). Please find the detailed installation guide line in our Github reposirtoy ==> https://github.com/AAUGeodesyGroup/PyGLDA"
   ]
  },
  {
   "cell_type": "code",
   "execution_count": 21,
   "id": "330f3077-b9db-40a1-97ad-aed36d3dda9a",
   "metadata": {},
   "outputs": [
    {
     "name": "stdout",
     "output_type": "stream",
     "text": [
      "\n",
      "Start to perturb GRACE to obtain appropriate observations...\n",
      "Finished: 2025-08-18 15:19:05\n",
      "\n",
      "Preparing OBS design matrix: 2025-08-18 15:19:06\n",
      "Successfully generate and save the design matrix...\n",
      "\n",
      "Configure DA experiments: 2025-08-18 15:19:07\n",
      "\n",
      "Configuring W3v2 run\n",
      "Spatial resolution: 0.1\n",
      "Area: lat- [31.2, 21.8], lon- [87.8, 97.7]\n",
      "Forcing field: ERA5\n",
      "\n",
      "Initializing model states: resume\n",
      "Configure shapefile: 2025-08-18 15:19:07\n",
      "Configure OBS and its design matrix: 2025-08-18 15:19:08\n",
      "User case: Guide\n",
      "\n",
      "=====================Data assimilation=========================\n",
      "\n",
      "Doing year/month: 2005/02\n",
      "............................|\n",
      "Doing year/month: 2005/03\n",
      "...............................|\n",
      "Doing year/month: 2005/04\n",
      "..............................|\n",
      "Doing year/month: 2005/05\n",
      "...............................|\n",
      "Doing year/month: 2005/06\n",
      "..............................|\n",
      "Doing year/month: 2005/07\n",
      "...............................|\n",
      "Doing year/month: 2005/08\n",
      "...............................|\n",
      "Doing year/month: 2005/09\n",
      "..............................|\n",
      "Doing year/month: 2005/10\n",
      "...............................|\n",
      "Doing year/month: 2005/11\n",
      "..............................|\n",
      "Doing year/month: 2005/12\n",
      "...............................|\n",
      "Postprocessing and gathering data assimilation results ......\n",
      "\n",
      "job finished: Guide, 2025-08-18 15:19:21\n"
     ]
    }
   ],
   "source": [
    "!mpiexec -n 11 python -u demo_test_installation.py"
   ]
  },
  {
   "cell_type": "markdown",
   "id": "7b440b7a-6880-4bc8-b8ca-2a3d9c6773ca",
   "metadata": {},
   "source": [
    "---"
   ]
  },
  {
   "cell_type": "markdown",
   "id": "a9adc67f-e785-4ea9-871e-c4df1a288ea3",
   "metadata": {},
   "source": [
    "## 2 Pre-setup"
   ]
  },
  {
   "cell_type": "markdown",
   "id": "5f1f5e20-6899-4309-86fe-3e8988e6b687",
   "metadata": {},
   "source": [
    "### 2.1 Define the study area of interest\n",
    "To define the study area, you should first have a shapefile of that region and and specify the path of this shapefile to be recoginized by PyGLDA."
   ]
  },
  {
   "cell_type": "code",
   "execution_count": 22,
   "id": "31c923a9-5321-4dfb-848e-4096859c39cd",
   "metadata": {},
   "outputs": [],
   "source": [
    "from demo_summer_school import RDA\n",
    "RDA.basin = 'Brahmaputra3subbasins'\n",
    "RDA.shp_path = '../data/basin/shp/Brahmaputra/Brahmaputra3subbasins_subbasins.shp'"
   ]
  },
  {
   "cell_type": "markdown",
   "id": "612b68d6-ddb7-46dc-bffb-e20951b47f6e",
   "metadata": {},
   "source": [
    "Then, visualize the shape file as follows"
   ]
  },
  {
   "cell_type": "code",
   "execution_count": 23,
   "id": "2c571f3c-55c9-4b6e-a7c8-1828e3b35e2b",
   "metadata": {},
   "outputs": [
    {
     "data": {
      "image/png": "[encoded data removed]",
      "text/plain": [
       "<Figure size 400x400 with 1 Axes>"
      ]
     },
     "metadata": {},
     "output_type": "display_data"
    }
   ],
   "source": [
    "import geopandas as gpd\n",
    "import matplotlib.pyplot as plt\n",
    "basin_map = gpd.read_file(RDA.shp_path)\n",
    "fig, ax = plt.subplots(figsize = (4,4))\n",
    "basin_map.plot(ax=ax,column=\"ID\")\n",
    "ax.set_axis_off()\n",
    "ax.set_title('Brahmaputra: three main subbasins');"
   ]
  },
  {
   "cell_type": "markdown",
   "id": "c7f5a82a-b93a-4caa-865e-418dbcd6a2b8",
   "metadata": {},
   "source": [
    "All standard shapefiles are acceptable for PyGLDA. But be aware to follow the convention of provided example shapefile to edit your own shapefile: use the feature 'ID' to specify the subbasins. "
   ]
  },
  {
   "cell_type": "markdown",
   "id": "db361a94-e88d-43e6-be89-731e81c1d8ad",
   "metadata": {},
   "source": [
    "### 2.2 Customize the configuration\n",
    "In addition to the study region, you still have many other relevant parameters to define.\n",
    "\n",
    "Define where to store the key results of DA"
   ]
  },
  {
   "cell_type": "code",
   "execution_count": 24,
   "id": "c2fe6ce6-30f7-420b-862e-b688a067eb45",
   "metadata": {},
   "outputs": [],
   "source": [
    "from demo_summer_school import mm\n",
    "mm.res_output = '/media/user/My Book/Fan/SummerSchool/External Data/w3ra/res'\n",
    "mm.figure_output = '/media/user/My Book/Fan/SummerSchool/External Data/w3ra/figure'"
   ]
  },
  {
   "cell_type": "markdown",
   "id": "85849568-b8a4-4e87-8226-ba3c0a63cfc3",
   "metadata": {},
   "source": [
    "Define the path of external data"
   ]
  },
  {
   "cell_type": "code",
   "execution_count": 25,
   "id": "5b02a66e-d9e2-4399-9dc5-7cc640349654",
   "metadata": {},
   "outputs": [],
   "source": [
    "RDA.external_data_path = '/media/user/My Book/Fan/SummerSchool/External Data'"
   ]
  },
  {
   "cell_type": "markdown",
   "id": "e1675578-ce7a-4a57-a50e-3da7705ad79f",
   "metadata": {},
   "source": [
    "Define the name of this case study"
   ]
  },
  {
   "cell_type": "code",
   "execution_count": 26,
   "id": "b08d1785-59fc-4fc3-affe-8ca0ba9339aa",
   "metadata": {},
   "outputs": [],
   "source": [
    "RDA.case = 'Guide'"
   ]
  },
  {
   "cell_type": "markdown",
   "id": "00c16f2b-976a-4171-b24e-56f42d9dd5c7",
   "metadata": {},
   "source": [
    "Define the path of desired setting files"
   ]
  },
  {
   "cell_type": "code",
   "execution_count": 27,
   "id": "7c7e35ca-e1b4-4502-9a8e-eee1df5d9b68",
   "metadata": {},
   "outputs": [],
   "source": [
    "RDA.setting_dir = '../settings/SummerSchool/Installation_guide'"
   ]
  },
  {
   "cell_type": "markdown",
   "id": "55325c3c-7fd6-4e81-816b-c3a3cc6c567a",
   "metadata": {},
   "source": [
    "Define the ensemble size for OL and DA"
   ]
  },
  {
   "cell_type": "code",
   "execution_count": 28,
   "id": "b41638cc-bc7e-4f43-b9f5-e65da6348179",
   "metadata": {},
   "outputs": [],
   "source": [
    "RDA.ens = 10"
   ]
  },
  {
   "cell_type": "markdown",
   "id": "eef6185f-ac27-4a8b-a1f9-dd64ea2667ab",
   "metadata": {},
   "source": [
    "Define the time period of spin up"
   ]
  },
  {
   "cell_type": "code",
   "execution_count": 29,
   "id": "1d933cf3-ff32-49a6-a70f-364a63633a84",
   "metadata": {},
   "outputs": [],
   "source": [
    "RDA.cold_begin_time = '2004-10-01'\n",
    "RDA.cold_end_time = '2004-12-31'"
   ]
  },
  {
   "cell_type": "markdown",
   "id": "625ac402-4317-4dff-8f10-b45e6d6fa547",
   "metadata": {},
   "source": [
    "Define the time period of OL"
   ]
  },
  {
   "cell_type": "code",
   "execution_count": 30,
   "id": "af2fe59d-7943-4c33-a03e-4c7d84566cfa",
   "metadata": {},
   "outputs": [],
   "source": [
    "RDA.warm_begin_time = '2005-01-01'\n",
    "RDA.warm_end_time = '2005-12-31'"
   ]
  },
  {
   "cell_type": "markdown",
   "id": "e2b20087-481c-4c65-9c84-701d32bdebf2",
   "metadata": {},
   "source": [
    "Define the time period of DA"
   ]
  },
  {
   "cell_type": "code",
   "execution_count": 31,
   "id": "a440b625-a431-4378-9ed4-7a5db92b67df",
   "metadata": {},
   "outputs": [],
   "source": [
    "RDA.resume_begin_time = '2005-02-01'\n",
    "RDA.resume_end_time = '2005-12-31'"
   ]
  },
  {
   "cell_type": "markdown",
   "id": "b326a941-1da8-4d0e-af7b-0d4aefeb5640",
   "metadata": {},
   "source": [
    "Save the configuration for later use"
   ]
  },
  {
   "cell_type": "code",
   "execution_count": 32,
   "id": "90823785-a2de-440b-97a4-29b1afe73404",
   "metadata": {},
   "outputs": [
    {
     "data": {
      "text/plain": [
       "{'basin': 'Brahmaputra3subbasins',\n",
       " 'shp_path': '../data/basin/shp/Brahmaputra/Brahmaputra3subbasins_subbasins.shp',\n",
       " 'case': 'Guide',\n",
       " 'setting_dir': '../settings/SummerSchool/Installation_guide',\n",
       " 'ens': 10,\n",
       " 'cold_begin_time': '2004-10-01',\n",
       " 'cold_end_time': '2004-12-31',\n",
       " 'warm_begin_time': '2005-01-01',\n",
       " 'warm_end_time': '2005-12-31',\n",
       " 'resume_begin_time': '2005-02-01',\n",
       " 'resume_end_time': '2005-12-31',\n",
       " 'external_data_path': '/media/user/My Book/Fan/SummerSchool/External Data',\n",
       " 'res_output': '/media/user/My Book/Fan/SummerSchool/External Data/w3ra/res',\n",
       " 'figure_output': '/media/user/My Book/Fan/SummerSchool/External Data/w3ra/figure'}"
      ]
     },
     "execution_count": 32,
     "metadata": {},
     "output_type": "execute_result"
    }
   ],
   "source": [
    "from demo_summer_school import save_main_configuration_parameters\n",
    "save_main_configuration_parameters()"
   ]
  },
  {
   "cell_type": "markdown",
   "id": "5bbf50e4-1598-48c3-8261-bd97b4c6c223",
   "metadata": {},
   "source": [
    "---\n",
    "## 3 Data preparation"
   ]
  },
  {
   "cell_type": "markdown",
   "id": "a8404895-eefa-4509-a584-4c37ffcc2370",
   "metadata": {},
   "source": [
    "### 3.1 GRACE mascon observation\n",
    "According to the predefined basin shapefile and time period, we obtain the (1) basin-average GRACE-TWS, (2) basin-average GRACE covariance matrix, (3) 0.5-degree gridded GRACE-TWS. By default, GRACE-Mascon, which comes from the CSR solution (https://www2.csr.utexas.edu/grace/RL06_mascons.html), is used to produce TWS observations. However, one can also swicth to GRACE spherical harmonic solution, which will be demonstrated later on."
   ]
  },
  {
   "cell_type": "code",
   "execution_count": 33,
   "id": "0960d453-74ca-440a-ba26-9c30f14f1c70",
   "metadata": {},
   "outputs": [
    {
     "name": "stdout",
     "output_type": "stream",
     "text": [
      "Start to pre-process GRACE to obtain basin-wise TWS over places of interest...\n",
      "2005-01\n",
      "2005-02\n",
      "2005-03\n",
      "2005-04\n",
      "2005-05\n",
      "2005-06\n",
      "2005-07\n",
      "2005-08\n",
      "2005-09\n",
      "2005-10\n",
      "2005-11\n",
      "2005-12\n",
      "Finished: 2025-08-18 15:19:27\n",
      "Start to pre-process GRACE to obtain grid-wise TWS over places of interest...\n",
      "2005-01\n",
      "2005-02\n",
      "2005-03\n",
      "2005-04\n",
      "2005-05\n",
      "2005-06\n",
      "2005-07\n",
      "2005-08\n",
      "2005-09\n",
      "2005-10\n",
      "2005-11\n",
      "2005-12\n",
      "Finished: 2025-08-18 15:19:28\n",
      "\n",
      "Start to pre-process GRACE to obtain COV over places of interest...\n",
      "2005-01_0.npy\n",
      "2005-02_0.npy\n",
      "2005-03_0.npy\n",
      "2005-04_0.npy\n",
      "2005-05_0.npy\n",
      "2005-06_0.npy\n",
      "2005-07_0.npy\n",
      "2005-08_0.npy\n",
      "2005-09_0.npy\n",
      "2005-10_0.npy\n",
      "2005-11_0.npy\n",
      "2005-12_0.npy\n",
      "Finished: 2025-08-18 15:21:00\n"
     ]
    }
   ],
   "source": [
    "from demo_summer_school import demo_prepare_GRACE_Mascon\n",
    "demo_prepare_GRACE_Mascon(isDiagonal=False)"
   ]
  },
  {
   "cell_type": "markdown",
   "id": "aee68501-e460-4f91-9774-d7a70e91f620",
   "metadata": {},
   "source": [
    "### 3.2 Forcing field\n",
    "The global 0.1 degree meterological forcing field has been downloaded, and what to do is to crop the global data to the study area. **Notice: This is only available for Linux, since the cropping tool called 'metview' is not available at windows operating system! Windows user can simply skip this step, since the cropped data has been pre-saved for demonstration.** "
   ]
  },
  {
   "cell_type": "code",
   "execution_count": 34,
   "id": "2142c5c9-2e1d-4f41-a432-c3dfadae4f0e",
   "metadata": {},
   "outputs": [
    {
     "name": "stdout",
     "output_type": "stream",
     "text": [
      "\n",
      "Data preparation...\n",
      "2004-10\n",
      "2004-11\n",
      "2004-12\n",
      "2005-01\n",
      "2005-02\n",
      "2005-03\n",
      "2005-04\n",
      "2005-05\n",
      "2005-06\n",
      "2005-07\n",
      "2005-08\n",
      "2005-09\n",
      "2005-10\n",
      "2005-11\n",
      "2005-12\n",
      "Finished: 2025-08-18 15:23:46\n"
     ]
    }
   ],
   "source": [
    "RDA.prepare_Forcing()"
   ]
  },
  {
   "cell_type": "markdown",
   "id": "d16133ee-145b-4d51-b0ed-4c94485335cf",
   "metadata": {},
   "source": [
    "---\n",
    "## 4 Model spin-up \n",
    "This is to warm up the model to make it reach equillbrium at given epoch."
   ]
  },
  {
   "cell_type": "code",
   "execution_count": 35,
   "id": "9f5ff631-ad67-4739-a5fe-e3860ea93270",
   "metadata": {},
   "outputs": [
    {
     "name": "stdout",
     "output_type": "stream",
     "text": [
      "\n",
      "Configuring W3v2 run\n",
      "Spatial resolution: 0.1\n",
      "Area: lat- [31.2, 21.8], lon- [87.8, 97.7]\n",
      "Forcing field: ERA5\n",
      "\n",
      "Initializing model states: cold\n",
      "Guess cold states.\n",
      "Spin up run for 2004-10-01 to 2004-12-31 (92 days)\n",
      "\n",
      "===== RUN from 2004-10-01 to 2004-12-31 =====\n",
      "\n",
      "Doing year/month 200410\n",
      "...............................\n",
      "Doing year/month 200411\n",
      "..............................\n",
      "Doing year/month 200412\n",
      "...............................\n",
      "Finished\n",
      "\n",
      "Configuring W3v2 run\n",
      "Spatial resolution: 0.1\n",
      "Area: lat- [31.2, 21.8], lon- [87.8, 97.7]\n",
      "Forcing field: ERA5\n"
     ]
    }
   ],
   "source": [
    "RDA.single_run()"
   ]
  },
  {
   "cell_type": "markdown",
   "id": "d50c616b-2f09-4816-bdf8-80a59c5b2668",
   "metadata": {},
   "source": [
    "---\n",
    "## 5 Open loop (OL)\n",
    "This uses ensemble to perform the OL for two goals: (1) generate perturbation at initial epoch; (2) acquire ensemble mean of the temporal mean to be added to GRACE TWS anomaly to generate the real observations. Pertubations are generated according to the predefined setting file. **Notice: please make sure that the number of running threads equals the ensemble size plus 1.**  "
   ]
  },
  {
   "cell_type": "code",
   "execution_count": 36,
   "id": "4d3cd142-f81c-4e6a-b8d9-a788d04a27d6",
   "metadata": {},
   "outputs": [
    {
     "name": "stdout",
     "output_type": "stream",
     "text": [
      "\n",
      "Start to generate ensembles with given perturbation...\n",
      "2005-01\n",
      "2005-02\n",
      "2005-03\n",
      "2005-04\n",
      "2005-05\n",
      "2005-06\n",
      "2005-07\n",
      "2005-08\n",
      "2005-09\n",
      "2005-10\n",
      "2005-11\n",
      "2005-12\n",
      "Finished: 2025-08-18 15:23:49\n",
      "\n",
      "Configuring W3v2 run\n",
      "Spatial resolution: 0.1\n",
      "Area: lat- [31.2, 21.8], lon- [87.8, 97.7]\n",
      "Forcing field: ERA5\n",
      "\n",
      "Initializing model states: warm\n",
      "\n",
      "===== RUN from 2005-01-01 to 2005-12-31 =====\n",
      "\n",
      "Doing year/month 200501\n",
      "...............................\n",
      "Doing year/month 200502\n",
      "............................\n",
      "Doing year/month 200503\n",
      "...............................\n",
      "Doing year/month 200504\n",
      "..............................\n",
      "Doing year/month 200505\n",
      "...............................\n",
      "Doing year/month 200506\n",
      "..............................\n",
      "Doing year/month 200507\n",
      "...............................\n",
      "Doing year/month 200508\n",
      "...............................\n",
      "Doing year/month 200509\n",
      "..............................\n",
      "Doing year/month 200510\n",
      "...............................\n",
      "Doing year/month 200511\n",
      "..............................\n",
      "Doing year/month 200512\n",
      "...............................\n",
      "Finished: 2025-08-18 15:23:58\n",
      "Postprocessing and gathering open loop results ......\n"
     ]
    }
   ],
   "source": [
    "!mpiexec -n 11 python -u demo_summer_school.py OL"
   ]
  },
  {
   "cell_type": "markdown",
   "id": "a2d7b561-e6ed-428e-b81a-541d9c5c1369",
   "metadata": {},
   "source": [
    "---\n",
    "## 6 Data assimilation (DA)"
   ]
  },
  {
   "cell_type": "code",
   "execution_count": 37,
   "id": "f77df872-5a73-44a7-9646-35121454d2b2",
   "metadata": {},
   "outputs": [
    {
     "name": "stdout",
     "output_type": "stream",
     "text": [
      "\n",
      "Start to perturb GRACE to obtain appropriate observations...\n",
      "Finished: 2025-08-18 15:24:30\n",
      "\n",
      "Preparing OBS design matrix: 2025-08-18 15:24:31\n",
      "Successfully generate and save the design matrix...\n",
      "\n",
      "Configure DA experiments: 2025-08-18 15:24:31\n",
      "\n",
      "Configuring W3v2 run\n",
      "Spatial resolution: 0.1\n",
      "Area: lat- [31.2, 21.8], lon- [87.8, 97.7]\n",
      "Forcing field: ERA5\n",
      "\n",
      "Initializing model states: resume\n",
      "Configure shapefile: 2025-08-18 15:24:32\n",
      "Configure OBS and its design matrix: 2025-08-18 15:24:32\n",
      "User case: Guide\n",
      "\n",
      "=====================Data assimilation=========================\n",
      "\n",
      "Doing year/month: 2005/02\n",
      "............................|\n",
      "Doing year/month: 2005/03\n",
      "...............................|\n",
      "Doing year/month: 2005/04\n",
      "..............................|\n",
      "Doing year/month: 2005/05\n",
      "...............................|\n",
      "Doing year/month: 2005/06\n",
      "..............................|\n",
      "Doing year/month: 2005/07\n",
      "...............................|\n",
      "Doing year/month: 2005/08\n",
      "...............................|\n",
      "Doing year/month: 2005/09\n",
      "..............................|\n",
      "Doing year/month: 2005/10\n",
      "...............................|\n",
      "Doing year/month: 2005/11\n",
      "..............................|\n",
      "Doing year/month: 2005/12\n",
      "...............................|\n",
      "Postprocessing and gathering data assimilation results ......\n",
      "\n",
      "job finished: Guide, 2025-08-18 15:24:57\n"
     ]
    }
   ],
   "source": [
    "!mpiexec -n 11 python -u demo_summer_school.py DA"
   ]
  },
  {
   "cell_type": "markdown",
   "id": "c633aab4-4043-42da-98ab-7041016807b6",
   "metadata": {},
   "source": [
    "---\n",
    "## 7 Visualization of the key results\n",
    "Please go to another notebook ==> **Visualization.ipynb**"
   ]
  }
 ],
 "metadata": {
  "kernelspec": {
   "display_name": "Python 3 (ipykernel)",
   "language": "python",
   "name": "python3"
  },
  "language_info": {
   "codemirror_mode": {
    "name": "ipython",
    "version": 3
   },
   "file_extension": ".py",
   "mimetype": "text/x-python",
   "name": "python",
   "nbconvert_exporter": "python",
   "pygments_lexer": "ipython3",
   "version": "3.13.3"
  }
 },
 "nbformat": 4,
 "nbformat_minor": 5
}
